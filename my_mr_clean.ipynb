{
 "cells": [
  {
   "cell_type": "code",
   "execution_count": 20,
   "id": "f327cee6",
   "metadata": {},
   "outputs": [
    {
     "name": "stdout",
     "output_type": "stream",
     "text": [
      "Requirement already satisfied: seaborn in /home/docode/.pyenv/versions/3.6.7/lib/python3.6/site-packages (0.11.2)\n",
      "Requirement already satisfied: pandas>=0.23 in /home/docode/.pyenv/versions/3.6.7/lib/python3.6/site-packages (from seaborn) (1.1.5)\n",
      "Requirement already satisfied: scipy>=1.0 in /home/docode/.pyenv/versions/3.6.7/lib/python3.6/site-packages (from seaborn) (1.5.4)\n",
      "Requirement already satisfied: numpy>=1.15 in /home/docode/.pyenv/versions/3.6.7/lib/python3.6/site-packages (from seaborn) (1.19.5)\n",
      "Requirement already satisfied: matplotlib>=2.2 in /home/docode/.pyenv/versions/3.6.7/lib/python3.6/site-packages (from seaborn) (3.3.4)\n",
      "Requirement already satisfied: python-dateutil>=2.1 in /home/docode/.pyenv/versions/3.6.7/lib/python3.6/site-packages (from matplotlib>=2.2->seaborn) (2.8.2)\n",
      "Requirement already satisfied: pyparsing!=2.0.4,!=2.1.2,!=2.1.6,>=2.0.3 in /home/docode/.pyenv/versions/3.6.7/lib/python3.6/site-packages (from matplotlib>=2.2->seaborn) (3.0.7)\n",
      "Requirement already satisfied: cycler>=0.10 in /home/docode/.pyenv/versions/3.6.7/lib/python3.6/site-packages (from matplotlib>=2.2->seaborn) (0.11.0)\n",
      "Requirement already satisfied: pillow>=6.2.0 in /home/docode/.pyenv/versions/3.6.7/lib/python3.6/site-packages (from matplotlib>=2.2->seaborn) (8.4.0)\n",
      "Requirement already satisfied: kiwisolver>=1.0.1 in /home/docode/.pyenv/versions/3.6.7/lib/python3.6/site-packages (from matplotlib>=2.2->seaborn) (1.3.1)\n",
      "Requirement already satisfied: pytz>=2017.2 in /home/docode/.pyenv/versions/3.6.7/lib/python3.6/site-packages (from pandas>=0.23->seaborn) (2022.1)\n",
      "Requirement already satisfied: six>=1.5 in /home/docode/.pyenv/versions/3.6.7/lib/python3.6/site-packages (from python-dateutil>=2.1->matplotlib>=2.2->seaborn) (1.16.0)\n",
      "Requirement already satisfied: nltk in /home/docode/.pyenv/versions/3.6.7/lib/python3.6/site-packages (3.6.7)\n",
      "Requirement already satisfied: tqdm in /home/docode/.pyenv/versions/3.6.7/lib/python3.6/site-packages (from nltk) (4.64.0)\n",
      "Requirement already satisfied: joblib in /home/docode/.pyenv/versions/3.6.7/lib/python3.6/site-packages (from nltk) (1.1.0)\n",
      "Requirement already satisfied: click in /home/docode/.pyenv/versions/3.6.7/lib/python3.6/site-packages (from nltk) (8.0.4)\n",
      "Requirement already satisfied: regex>=2021.8.3 in /home/docode/.pyenv/versions/3.6.7/lib/python3.6/site-packages (from nltk) (2022.8.17)\n",
      "Requirement already satisfied: importlib-metadata in /home/docode/.pyenv/versions/3.6.7/lib/python3.6/site-packages (from click->nltk) (4.8.3)\n",
      "Requirement already satisfied: importlib-resources in /home/docode/.pyenv/versions/3.6.7/lib/python3.6/site-packages (from tqdm->nltk) (5.4.0)\n",
      "Requirement already satisfied: typing-extensions>=3.6.4 in /home/docode/.pyenv/versions/3.6.7/lib/python3.6/site-packages (from importlib-metadata->click->nltk) (4.1.1)\n",
      "Requirement already satisfied: zipp>=0.5 in /home/docode/.pyenv/versions/3.6.7/lib/python3.6/site-packages (from importlib-metadata->click->nltk) (3.6.0)\n"
     ]
    }
   ],
   "source": [
    "!pip install seaborn\n",
    "!pip install nltk"
   ]
  },
  {
   "cell_type": "code",
   "execution_count": 21,
   "id": "b7f6535a",
   "metadata": {},
   "outputs": [
    {
     "name": "stderr",
     "output_type": "stream",
     "text": [
      "[nltk_data] Downloading package stopwords to /home/docode/nltk_data...\n",
      "[nltk_data]   Package stopwords is already up-to-date!\n"
     ]
    }
   ],
   "source": [
    "import nltk\n",
    "from nltk.corpus import stopwords\n",
    "nltk.download('stopwords')\n",
    "import seaborn as sns\n",
    "import re \n",
    "import requests \n",
    "import matplotlib.pyplot as plt\n",
    "\n",
    "\n",
    "\n",
    "\n",
    "def get_content(article_name):\n",
    "    page = \"https://en.wikipedia.org/w/api.php\"\n",
    "    content = requests.get(page, params = {\"action\": \"query\", \"prop\": \"extracts\", \"titles\": article_name, \"format\": \"json\"})\n",
    "    data = content.json()\n",
    "    return data['query']['pages']['22834']['extract']\n",
    "    "
   ]
  },
  {
   "cell_type": "code",
   "execution_count": 22,
   "id": "67be9839",
   "metadata": {},
   "outputs": [],
   "source": [
    "def merge_contents(data):\n",
    "    clean = re.compile(r'<.*?>')\n",
    "    data = re.sub(clean, '', data)\n",
    "    cleaned_list = re.split(\"\\. |\\.|\\n| |-|\\'\", data)\n",
    "    return cleaned_list\n"
   ]
  },
  {
   "cell_type": "code",
   "execution_count": 23,
   "id": "572e8348",
   "metadata": {},
   "outputs": [],
   "source": [
    "def tokenize(content):\n",
    "    return [x for x in merge_content if(x.isdigit() == False and x.isalnum())]\n",
    "\n"
   ]
  },
  {
   "cell_type": "code",
   "execution_count": 24,
   "id": "5b66d13a",
   "metadata": {},
   "outputs": [],
   "source": [
    "def lower_collection(collection):\n",
    "    return [x.lower() for x in collection]"
   ]
  },
  {
   "cell_type": "code",
   "execution_count": 25,
   "id": "60d71ebc",
   "metadata": {},
   "outputs": [],
   "source": [
    "def count_frequency(lower_case):\n",
    "    count = 0\n",
    "    amount_of_words = {}\n",
    "    for i in range(len(lower_case)):\n",
    "        for j in range(i, len(lower_case)):\n",
    "            if(lower_case[i] == lower_case[j]):\n",
    "                count += 1\n",
    "        if(lower_case[i] not in amount_of_words.keys()):\n",
    "            amount_of_words.update({lower_case[i]: count})\n",
    "        count = 0\n",
    "    return amount_of_words\n",
    "\n",
    "    "
   ]
  },
  {
   "cell_type": "code",
   "execution_count": 26,
   "id": "8b110c58",
   "metadata": {},
   "outputs": [],
   "source": [
    "import operator\n",
    "\n",
    "def print_most_frequent(frequencies, n):\n",
    "    i = 0\n",
    "    answer = {}\n",
    "    sorted_frequencies = dict(sorted(frequencies.items(), key=operator.itemgetter(1),reverse=True))\n",
    "    for k,v in sorted_frequencies.items():\n",
    "        if(i < n):\n",
    "            i += 1\n",
    "            answer.update({k: v})\n",
    "\n",
    "    return answer\n",
    "    \n",
    "    \n",
    "\n"
   ]
  },
  {
   "cell_type": "code",
   "execution_count": 27,
   "id": "2d0c43d1",
   "metadata": {},
   "outputs": [],
   "source": [
    "def creating_hist(frequencies):\n",
    "    plt.figure(figsize=(10,10))\n",
    "    x_label = [v for k,v in frequencies.items()]\n",
    "    y_label = [k for k,v in frequencies.items()]\n",
    "    sns.barplot(x=x_label[0:25], y=y_label[0:25])\n",
    "    plt.show()"
   ]
  },
  {
   "cell_type": "code",
   "execution_count": 28,
   "id": "dd21695b",
   "metadata": {},
   "outputs": [],
   "source": [
    "def remove_stop_words(lower_case, stop_words):\n",
    "    removed_list = [x for x in lower_case if(x not in stop_words)]\n",
    "    return removed_list\n"
   ]
  },
  {
   "cell_type": "code",
   "execution_count": 29,
   "id": "91e85f78",
   "metadata": {},
   "outputs": [
    {
     "data": {
      "image/png": "[encoded data removed]",
      "text/plain": [
       "<Figure size 720x720 with 1 Axes>"
      ]
     },
     "metadata": {
      "needs_background": "light"
     },
     "output_type": "display_data"
    }
   ],
   "source": [
    "article_name = \"Ozone layer\"\n",
    "data = get_content(article_name)\n",
    "merge_content = merge_contents(data)\n",
    "collection = tokenize(merge_content)\n",
    "lower_case = lower_collection(collection)\n",
    "amount_of_words = count_frequency(lower_case)\n",
    "\n",
    "frequencies = print_most_frequent(amount_of_words, 20)\n",
    "\n",
    "stop_words = list(stopwords.words('english'))\n",
    "\n",
    "words = remove_stop_words(lower_case, stop_words)\n",
    "amount_of_removed_words = count_frequency(words)\n",
    "frequencies_of_removed = print_most_frequent(amount_of_removed_words, 20)\n",
    "creating_hist(frequencies_of_removed)\n"
   ]
  },
  {
   "cell_type": "code",
   "execution_count": null,
   "id": "d3d58f42",
   "metadata": {},
   "outputs": [],
   "source": []
  },
  {
   "cell_type": "code",
   "execution_count": null,
   "id": "1f277971",
   "metadata": {},
   "outputs": [],
   "source": []
  }
 ],
 "metadata": {
  "kernelspec": {
   "display_name": "Python 3",
   "language": "python",
   "name": "python3"
  },
  "language_info": {
   "codemirror_mode": {
    "name": "ipython",
    "version": 3
   },
   "file_extension": ".py",
   "mimetype": "text/x-python",
   "name": "python",
   "nbconvert_exporter": "python",
   "pygments_lexer": "ipython3",
   "version": "3.6.7"
  }
 },
 "nbformat": 4,
 "nbformat_minor": 5
}
